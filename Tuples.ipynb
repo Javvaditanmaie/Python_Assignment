{
 "cells": [
  {
   "cell_type": "code",
   "execution_count": 1,
   "id": "7c7c0d2c",
   "metadata": {},
   "outputs": [
    {
     "name": "stdout",
     "output_type": "stream",
     "text": [
      "[2, 1, 4, 3]\n"
     ]
    }
   ],
   "source": [
    "def swap_numbers(t):\n",
    "    res=[]\n",
    "    i=0\n",
    "    while i<len(t)-1:\n",
    "        res.append(t[i+1])\n",
    "        res.append(t[i])\n",
    "        i+=2\n",
    "    if len(t)%2 !=0:\n",
    "        res.append(t[-1])\n",
    "    return res\n",
    "print(swap_numbers((1,2,3,4)))"
   ]
  },
  {
   "cell_type": "code",
   "execution_count": 3,
   "id": "9b0dec1b",
   "metadata": {},
   "outputs": [
    {
     "name": "stdout",
     "output_type": "stream",
     "text": [
      "(1, 5, 15, 3.0)\n"
     ]
    }
   ],
   "source": [
    "def get_stats(numbers):\n",
    "    if not numbers:\n",
    "        return (None,None,0,0)\n",
    "    minimum=min(numbers)\n",
    "    maximum=max(numbers)\n",
    "    t=sum(numbers)\n",
    "    average=t/len(numbers)\n",
    "    return (minimum,maximum,t,average)\n",
    "print(get_stats([1,2,3,4,5]))"
   ]
  },
  {
   "cell_type": "code",
   "execution_count": 5,
   "id": "324cf96a",
   "metadata": {},
   "outputs": [
    {
     "name": "stdout",
     "output_type": "stream",
     "text": [
      "student(name='Charlie', age=21, grades=(90, 92, 93))\n"
     ]
    }
   ],
   "source": [
    "from collections import namedtuple\n",
    "\n",
    "students=namedtuple(\"student\",[\"name\",\"age\",\"grades\"])\n",
    "def top_student(students):\n",
    "    return max(students, key=lambda student: sum(student.grades) / len(student.grades))\n",
    "\n",
    "alice = students(\"Alice\", 20, (85, 90, 95))\n",
    "bob = students(\"Bob\", 19, (70, 80, 90))\n",
    "charlie = students(\"Charlie\", 21, (90, 92, 93))\n",
    "\n",
    "print(top_student([alice, bob, charlie]))  "
   ]
  },
  {
   "cell_type": "code",
   "execution_count": 6,
   "id": "49e04d40",
   "metadata": {},
   "outputs": [
    {
     "name": "stdout",
     "output_type": "stream",
     "text": [
      "{(1, 2): 3, (3, 4): 2, (5, 6): 1}\n"
     ]
    }
   ],
   "source": [
    "def count_coordinate_occurrences(coords):\n",
    "    occurrences = {}\n",
    "    for coord in coords:\n",
    "        if coord in occurrences:\n",
    "            occurrences[coord] += 1\n",
    "        else:\n",
    "            occurrences[coord] = 1\n",
    "    return occurrences\n",
    "\n",
    "# Example usage\n",
    "coords = [(1, 2), (3, 4), (1, 2), (5, 6), (3, 4), (1, 2)]\n",
    "print(count_coordinate_occurrences(coords))"
   ]
  },
  {
   "cell_type": "code",
   "execution_count": null,
   "id": "9fc96d71",
   "metadata": {},
   "outputs": [],
   "source": [
    "def merge_dictionaries(dict1, dict2):\n",
    "    merged = dict1.copy()       \n",
    "    merged.update(dict2)       \n",
    "    return merged\n",
    "\n",
    "dict1 = {\"a\": 1, \"b\": 2}\n",
    "dict2 = {\"b\": 3, \"c\": 4}\n",
    "print(merge_dictionaries(dict1, dict2))"
   ]
  }
 ],
 "metadata": {
  "kernelspec": {
   "display_name": "Python 3 (ipykernel)",
   "language": "python",
   "name": "python3"
  },
  "language_info": {
   "codemirror_mode": {
    "name": "ipython",
    "version": 3
   },
   "file_extension": ".py",
   "mimetype": "text/x-python",
   "name": "python",
   "nbconvert_exporter": "python",
   "pygments_lexer": "ipython3",
   "version": "3.9.7"
  }
 },
 "nbformat": 4,
 "nbformat_minor": 5
}
