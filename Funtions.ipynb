{
 "cells": [
  {
   "cell_type": "code",
   "execution_count": null,
   "id": "f4d40ecc",
   "metadata": {},
   "outputs": [],
   "source": [
    "Function Basics"
   ]
  },
  {
   "cell_type": "code",
   "execution_count": 1,
   "id": "b5b30071",
   "metadata": {},
   "outputs": [
    {
     "name": "stdout",
     "output_type": "stream",
     "text": [
      "12.5\n",
      "0\n"
     ]
    }
   ],
   "source": [
    "def calculate_average(numbers):\n",
    "    if not numbers:\n",
    "        return 0\n",
    "    return sum(numbers) / len(numbers)\n",
    "\n",
    "print(calculate_average([5, 10, 15, 20]))  \n",
    "print(calculate_average([]))              \n"
   ]
  },
  {
   "cell_type": "code",
   "execution_count": 10,
   "id": "c9a52cb8",
   "metadata": {},
   "outputs": [
    {
     "name": "stdout",
     "output_type": "stream",
     "text": [
      "Hello, Alice!\n",
      "Hi, Bob!\n"
     ]
    }
   ],
   "source": [
    "def greet_user(name, greeting):\n",
    "    return f\"{greeting}, {name}!\"\n",
    "\n",
    "print(greet_user(\"Alice\",\"Hello\"))          \n",
    "print(greet_user(\"Bob\", \"Hi\"))      "
   ]
  },
  {
   "cell_type": "code",
   "execution_count": 4,
   "id": "1238feac",
   "metadata": {},
   "outputs": [
    {
     "name": "stdout",
     "output_type": "stream",
     "text": [
      "60\n",
      "54.0\n"
     ]
    }
   ],
   "source": [
    "def calculate_total(*prices, discount=0):\n",
    "    total = sum(prices)\n",
    "    if discount:\n",
    "        total -= total * (discount / 100)\n",
    "    return total\n",
    "\n",
    "# Example usage:\n",
    "print(calculate_total(10, 20, 30))                     \n",
    "print(calculate_total(10, 20, 30, discount=10))        \n"
   ]
  },
  {
   "cell_type": "code",
   "execution_count": 12,
   "id": "1b8b198a",
   "metadata": {},
   "outputs": [
    {
     "name": "stdout",
     "output_type": "stream",
     "text": [
      "10\n",
      "15\n"
     ]
    }
   ],
   "source": [
    "def create_multiplier(number):\n",
    "    def multiplier(x):\n",
    "        return x*number\n",
    "    return multiplier\n",
    "double=create_multiplier(2)\n",
    "triple=create_multiplier(3)\n",
    "print(double(5))\n",
    "print(triple(5))\n"
   ]
  },
  {
   "cell_type": "code",
   "execution_count": 6,
   "id": "f58737fd",
   "metadata": {
    "scrolled": true
   },
   "outputs": [
    {
     "name": "stdout",
     "output_type": "stream",
     "text": [
      "[2, 4, 6]\n",
      "[]\n"
     ]
    }
   ],
   "source": [
    "def filter_even_numbers(numbers):\n",
    "    return [num for num in numbers if num % 2 == 0]\n",
    "\n",
    "\n",
    "print(filter_even_numbers([1, 2, 3, 4, 5, 6]))  \n",
    "print(filter_even_numbers([1, 3, 5]))           \n"
   ]
  },
  {
   "cell_type": "code",
   "execution_count": 7,
   "id": "3678a0a3",
   "metadata": {},
   "outputs": [
    {
     "name": "stdout",
     "output_type": "stream",
     "text": [
      "[1, 2, 3, 4, 5, 6]\n",
      "[1, 2, 3, 4, 5, 6]\n"
     ]
    }
   ],
   "source": [
    "def merge_sorted_lists(list1, list2):\n",
    "    return sorted(list1 + list2)\n",
    "\n",
    "\n",
    "print(merge_sorted_lists([1, 3, 5], [2, 4, 6]))  \n",
    "print(merge_sorted_lists([1, 2, 3], [4, 5, 6]))  "
   ]
  },
  {
   "cell_type": "code",
   "execution_count": 8,
   "id": "fad5e52c",
   "metadata": {},
   "outputs": [
    {
     "name": "stdout",
     "output_type": "stream",
     "text": [
      "[[0, 0, 0], [0, 1, 2], [0, 2, 4]]\n"
     ]
    }
   ],
   "source": [
    "def generate_matrix(n, m):\n",
    "    return [[i * j for j in range(m)] for i in range(n)]\n",
    "print(generate_matrix(3, 3))\n"
   ]
  },
  {
   "cell_type": "code",
   "execution_count": 9,
   "id": "c3c0dc4e",
   "metadata": {},
   "outputs": [
    {
     "name": "stdout",
     "output_type": "stream",
     "text": [
      "[[1, 4], [2, 5], [3, 6]]\n"
     ]
    }
   ],
   "source": [
    "def transpose_matrix(matrix):\n",
    "    return [[row[i] for row in matrix] for i in range(len(matrix[0]))]\n",
    "matrix = [\n",
    "    [1, 2, 3],\n",
    "    [4, 5, 6]\n",
    "]\n",
    "print(transpose_matrix(matrix))"
   ]
  },
  {
   "cell_type": "code",
   "execution_count": 15,
   "id": "b640bc38",
   "metadata": {},
   "outputs": [
    {
     "name": "stdout",
     "output_type": "stream",
     "text": [
      "[2, 1, 4, 3]\n"
     ]
    }
   ],
   "source": [
    "def swap_numbers(t):\n",
    "    res=[]\n",
    "    i=0\n",
    "    while i<len(t)-1:\n",
    "        res.append(t[i+1])\n",
    "        res.append(t[i])\n",
    "        i+=2\n",
    "    if len(t)%2 !=0:\n",
    "        res.append(t[-1])\n",
    "    return res\n",
    "print(swap_numbers((1,2,3,4)))"
   ]
  },
  {
   "cell_type": "code",
   "execution_count": null,
   "id": "df98b0e7",
   "metadata": {},
   "outputs": [],
   "source": [
    "def get_stats(t)"
   ]
  }
 ],
 "metadata": {
  "kernelspec": {
   "display_name": "Python 3 (ipykernel)",
   "language": "python",
   "name": "python3"
  },
  "language_info": {
   "codemirror_mode": {
    "name": "ipython",
    "version": 3
   },
   "file_extension": ".py",
   "mimetype": "text/x-python",
   "name": "python",
   "nbconvert_exporter": "python",
   "pygments_lexer": "ipython3",
   "version": "3.9.7"
  }
 },
 "nbformat": 4,
 "nbformat_minor": 5
}
