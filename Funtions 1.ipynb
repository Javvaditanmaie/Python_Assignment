{
 "cells": [
  {
   "cell_type": "code",
   "execution_count": null,
   "id": "c3d3eb60",
   "metadata": {},
   "outputs": [],
   "source": [
    "Function Basics"
   ]
  },
  {
   "cell_type": "code",
   "execution_count": 1,
   "id": "21cbefeb",
   "metadata": {},
   "outputs": [
    {
     "name": "stdout",
     "output_type": "stream",
     "text": [
      "12.5\n",
      "0\n"
     ]
    }
   ],
   "source": [
    "def calculate_average(numbers):\n",
    "    if not numbers:\n",
    "        return 0\n",
    "    return sum(numbers) / len(numbers)\n",
    "\n",
    "print(calculate_average([5, 10, 15, 20]))  \n",
    "print(calculate_average([]))              \n"
   ]
  },
  {
   "cell_type": "code",
   "execution_count": 10,
   "id": "2aca1386",
   "metadata": {},
   "outputs": [
    {
     "name": "stdout",
     "output_type": "stream",
     "text": [
      "Hello, Alice!\n",
      "Hi, Bob!\n"
     ]
    }
   ],
   "source": [
    "def greet_user(name, greeting):\n",
    "    return f\"{greeting}, {name}!\"\n",
    "\n",
    "print(greet_user(\"Alice\",\"Hello\"))          \n",
    "print(greet_user(\"Bob\", \"Hi\"))      "
   ]
  },
  {
   "cell_type": "code",
   "execution_count": 4,
   "id": "8c22d0c3",
   "metadata": {},
   "outputs": [
    {
     "name": "stdout",
     "output_type": "stream",
     "text": [
      "60\n",
      "54.0\n"
     ]
    }
   ],
   "source": [
    "def calculate_total(*prices, discount=0):\n",
    "    total = sum(prices)\n",
    "    if discount:\n",
    "        total -= total * (discount / 100)\n",
    "    return total\n",
    "\n",
    "# Example usage:\n",
    "print(calculate_total(10, 20, 30))                     \n",
    "print(calculate_total(10, 20, 30, discount=10))        \n"
   ]
  },
  {
   "cell_type": "code",
   "execution_count": 12,
   "id": "f652295c",
   "metadata": {},
   "outputs": [
    {
     "name": "stdout",
     "output_type": "stream",
     "text": [
      "10\n",
      "15\n"
     ]
    }
   ],
   "source": [
    "def create_multiplier(number):\n",
    "    def multiplier(x):\n",
    "        return x*number\n",
    "    return multiplier\n",
    "double=create_multiplier(2)\n",
    "triple=create_multiplier(3)\n",
    "print(double(5))\n",
    "print(triple(5))\n"
   ]
  }
 ],
 "metadata": {
  "kernelspec": {
   "display_name": "Python 3 (ipykernel)",
   "language": "python",
   "name": "python3"
  },
  "language_info": {
   "codemirror_mode": {
    "name": "ipython",
    "version": 3
   },
   "file_extension": ".py",
   "mimetype": "text/x-python",
   "name": "python",
   "nbconvert_exporter": "python",
   "pygments_lexer": "ipython3",
   "version": "3.9.7"
  }
 },
 "nbformat": 4,
 "nbformat_minor": 5
}
