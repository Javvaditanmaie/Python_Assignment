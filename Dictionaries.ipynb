{
 "cells": [
  {
   "cell_type": "code",
   "execution_count": 1,
   "id": "27b96bb5",
   "metadata": {},
   "outputs": [
    {
     "name": "stdout",
     "output_type": "stream",
     "text": [
      "{1: 'a', 2: 'b', 3: 'c'}\n"
     ]
    }
   ],
   "source": [
    "def invert_dictionary(d):\n",
    "    return {value: key for key, value in d.items()}\n",
    "\n",
    "print(invert_dictionary({\"a\": 1, \"b\": 2, \"c\": 3}))"
   ]
  },
  {
   "cell_type": "code",
   "execution_count": 3,
   "id": "adecbc80",
   "metadata": {},
   "outputs": [
    {
     "name": "stdout",
     "output_type": "stream",
     "text": [
      "{'a': 1, 'b': 3, 'c': 4}\n"
     ]
    }
   ],
   "source": [
    "def merge_dictionaries(dict1, dict2):\n",
    "    merged = dict1.copy()       \n",
    "    merged.update(dict2)       \n",
    "    return merged\n",
    "\n",
    "dict1 = {\"a\": 1, \"b\": 2}\n",
    "dict2 = {\"b\": 3, \"c\": 4}\n",
    "print(merge_dictionaries(dict1, dict2))"
   ]
  },
  {
   "cell_type": "code",
   "execution_count": 4,
   "id": "695d5d95",
   "metadata": {},
   "outputs": [
    {
     "name": "stdout",
     "output_type": "stream",
     "text": [
      "{'the': 2, 'quick': 1, 'brown': 1, 'fox': 1, 'jumps': 1, 'over': 1, 'lazy': 1, 'dog': 1}\n"
     ]
    }
   ],
   "source": [
    "def word_frequencies(text):\n",
    "    words=text.split()\n",
    "    freq={}\n",
    "    for word in words:\n",
    "        freq[word]=freq.get(word,0)+1\n",
    "    return freq\n",
    "text=\"the quick brown fox jumps over the lazy dog\"\n",
    "print(word_frequencies(text))"
   ]
  },
  {
   "cell_type": "code",
   "execution_count": 5,
   "id": "446f4b78",
   "metadata": {},
   "outputs": [
    {
     "name": "stdout",
     "output_type": "stream",
     "text": [
      "{'Alice': {'phone': '123-456-7890', 'email': 'alice@example.com', 'address': '123 Main St'}, 'Bob': {'phone': '987-654-3210'}}\n"
     ]
    }
   ],
   "source": [
    "def add_contact(contacts, name, **info):\n",
    "    if name not in contacts:\n",
    "        contacts[name] = {}\n",
    "    contacts[name].update(info)\n",
    "    \n",
    "    \n",
    "contacts = {}\n",
    "add_contact(contacts, \"Alice\", phone=\"123-456-7890\", email=\"alice@example.com\")\n",
    "add_contact(contacts, \"Bob\", phone=\"987-654-3210\")\n",
    "add_contact(contacts, \"Alice\", address=\"123 Main St\")  # Updates Alice's info\n",
    "\n",
    "print(contacts)"
   ]
  }
 ],
 "metadata": {
  "kernelspec": {
   "display_name": "Python 3 (ipykernel)",
   "language": "python",
   "name": "python3"
  },
  "language_info": {
   "codemirror_mode": {
    "name": "ipython",
    "version": 3
   },
   "file_extension": ".py",
   "mimetype": "text/x-python",
   "name": "python",
   "nbconvert_exporter": "python",
   "pygments_lexer": "ipython3",
   "version": "3.9.7"
  }
 },
 "nbformat": 4,
 "nbformat_minor": 5
}
